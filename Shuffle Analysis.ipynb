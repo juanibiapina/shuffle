{
 "cells": [
  {
   "cell_type": "markdown",
   "metadata": {},
   "source": [
    "Configuration data"
   ]
  },
  {
   "cell_type": "code",
   "execution_count": 1,
   "metadata": {},
   "outputs": [],
   "source": [
    "samples = 100000\n",
    "cards = 60\n",
    "lands = 24"
   ]
  },
  {
   "cell_type": "markdown",
   "metadata": {},
   "source": [
    "Calculated variables and constants"
   ]
  },
  {
   "cell_type": "code",
   "execution_count": 2,
   "metadata": {},
   "outputs": [],
   "source": [
    "spells = cards - lands\n",
    "SPELL = 1\n",
    "LAND = 0"
   ]
  },
  {
   "cell_type": "markdown",
   "metadata": {},
   "source": [
    "Riffle shuffle"
   ]
  },
  {
   "cell_type": "code",
   "execution_count": 3,
   "metadata": {},
   "outputs": [],
   "source": [
    "import sklearn.utils\n",
    "import numpy as np\n",
    "\n",
    "def get_random_number_for_right_deck(n: int, seed: int=None, ) -> int:\n",
    "    \"\"\"\n",
    "    Return the number of cards to split into the right sub-deck.\n",
    "\n",
    "    :param n: one above the highest number that could be returned by this\n",
    "              function.\n",
    "    :param seed: optional seed for the random number generator to enable\n",
    "                 deterministic behavior.\n",
    "    :return: a random integer (between 1 and n-1) that represents the\n",
    "             desired number of cards.\n",
    "\n",
    "    Examples:\n",
    "\n",
    "    >>> get_random_number_for_right_deck(n=5, seed=0, )\n",
    "    1\n",
    "    \"\"\"\n",
    "    random = sklearn.utils.check_random_state(seed=seed, )\n",
    "    \n",
    "    return cards // 2\n",
    "    return random.randint(low=1, high=n, )\n",
    "\n",
    "def should_drop_from_right_deck(n_left: int, n_right:int, seed: int=None, ) -> bool:\n",
    "    \"\"\"\n",
    "    Determine whether we drop a card from the right or left sub-deck.\n",
    "    \n",
    "    Either `n_left` or `n_right` (or both) must be greater than zero.\n",
    "    \n",
    "    :param n_left: the number of cards in the left sub-deck.\n",
    "    :param n_right: the number of cards in the right sub-deck.\n",
    "    :param seed: optional seed for the random number generator to\n",
    "                 enable deterministic behavior.\n",
    "    :return: True if we should drop a card from the right sub-deck,\n",
    "             False otherwise.\n",
    "    \n",
    "    Examples:\n",
    "\n",
    "    >>> should_drop_from_right_deck(n_left=32, n_right=5, seed=0, )\n",
    "    True\n",
    "\n",
    "    >>> should_drop_from_right_deck(n_left=0, n_right=5, )\n",
    "    True\n",
    "\n",
    "    >>> should_drop_from_right_deck(n_left=7, n_right=0, )\n",
    "    False\n",
    "\n",
    "    >>> should_drop_from_right_deck(n_left=0, n_right=0, )\n",
    "    Traceback (most recent call last):\n",
    "    ...\n",
    "    ValueError: Either `n_left` or `n_right` (or both) must be greater than zero.\n",
    "    \"\"\"\n",
    "    if n_left > 0 and n_right > 0:\n",
    "        random = sklearn.utils.check_random_state(seed=seed, )\n",
    "        value = random.random_sample()\n",
    "        card_diff = n_right - n_left\n",
    "        if card_diff < -4:\n",
    "            card_diff = -4\n",
    "        if card_diff > 4:\n",
    "            card_diff = 4\n",
    "        probability = 0.5 + (card_diff * 0.1)\n",
    "        boolean = (value <= probability)\n",
    "        return boolean\n",
    "    elif n_left == 0 and n_right > 0:\n",
    "        # There are no more cards in the left sub-deck, only\n",
    "        # the right sub-deck, so we drop from the right sub-deck.\n",
    "        return True\n",
    "    elif n_left > 0 and n_right == 0:\n",
    "        # There are no more cards in the right sub-deck, only\n",
    "        # the left sub-deck, so we drop from the left sub-deck.\n",
    "        return False\n",
    "    else:\n",
    "        # There are no more cards in either sub-deck.\n",
    "        raise ValueError ('Either `n_left` or `n_right` '\\\n",
    "                          '(or both) must be greater than zero.')\n",
    "        \n",
    "def riffle(deck: np.array, seed: int=None, ) -> np.array:\n",
    "    \"\"\"\n",
    "    Shuffle the input 'deck' using the Gilbert–Shannon–Reeds method.\n",
    "\n",
    "    :param seq: the input sequence of integers.\n",
    "    :param seed: optional seed for the random number generator\n",
    "                 to enable deterministic behavior.\n",
    "    :return: A new deck containing shuffled integers from the\n",
    "             input deck.\n",
    "\n",
    "    Examples:\n",
    "\n",
    "    >>> shuffle(deck=np.array([0, 7, 3, 8, 4, 9, ]), seed=0, )\n",
    "    array([4, 8, 3, 7, 0, 9])\n",
    "    \"\"\"\n",
    "    \n",
    "    # First randomly divide the 'deck' into 'left' and 'right'\n",
    "    # 'sub-decks'.\n",
    "    num_cards_in_deck = len(deck)\n",
    "    orig_num_cards_right_deck = get_random_number_for_right_deck(\n",
    "        n=num_cards_in_deck,\n",
    "        seed=seed,\n",
    "    )\n",
    "\n",
    "    # By definition of get_random_number_for_right_deck():\n",
    "    n_right = orig_num_cards_right_deck\n",
    "    \n",
    "    n_left = num_cards_in_deck - orig_num_cards_right_deck\n",
    "    \n",
    "    shuffled_deck = np.empty(num_cards_in_deck, dtype=int)\n",
    "    \n",
    "    # We will drop a card n times.\n",
    "    for index in range(num_cards_in_deck):\n",
    "        drop_from_right_deck = should_drop_from_right_deck(\n",
    "            n_left=n_left,\n",
    "            n_right=n_right,\n",
    "            seed=seed,\n",
    "        )\n",
    "        \n",
    "        if drop_from_right_deck is True:\n",
    "            # Drop from the bottom of right sub-deck\n",
    "            # onto the shuffled pile.\n",
    "            shuffled_deck[index] = deck[n_right - 1]\n",
    "            n_right = n_right - 1\n",
    "        else:\n",
    "            # Drop from the bottom of left sub-deck\n",
    "            # onto the shuffled pile.\n",
    "            shuffled_deck[index] = deck[\n",
    "                orig_num_cards_right_deck + n_left - 1\n",
    "            ]\n",
    "            n_left = n_left - 1\n",
    "    \n",
    "    return shuffled_deck\n",
    "\n",
    "def riffle_shuffle(deck: np.array, seed: int=None, ) -> np.array:\n",
    "    new_deck = deck\n",
    "    for i in range(5):\n",
    "        new_deck = riffle(deck=new_deck, seed=seed)\n",
    "    return new_deck"
   ]
  },
  {
   "cell_type": "markdown",
   "metadata": {},
   "source": [
    "Create initial deck"
   ]
  },
  {
   "cell_type": "code",
   "execution_count": 4,
   "metadata": {},
   "outputs": [],
   "source": [
    "deck = []\n",
    "\n",
    "for i in range(lands):\n",
    "    deck.append(LAND)\n",
    "    \n",
    "for i in range(spells):\n",
    "    deck.append(SPELL)"
   ]
  },
  {
   "cell_type": "markdown",
   "metadata": {},
   "source": [
    "Shuffle all sample decks"
   ]
  },
  {
   "cell_type": "code",
   "execution_count": 5,
   "metadata": {},
   "outputs": [],
   "source": [
    "from random import shuffle\n",
    "\n",
    "perfectly_shuffled_decks = []\n",
    "\n",
    "for i in range(samples):\n",
    "    s = deck.copy()\n",
    "    shuffle(s)\n",
    "    perfectly_shuffled_decks.append(s)\n",
    "    \n",
    "    \n",
    "riffled_shuffled_decks = []    \n",
    "\n",
    "for i in range(samples):\n",
    "    s = riffle_shuffle(deck=deck.copy())\n",
    "    riffled_shuffled_decks.append(s)"
   ]
  },
  {
   "cell_type": "markdown",
   "metadata": {},
   "source": [
    "Imports"
   ]
  },
  {
   "cell_type": "code",
   "execution_count": 6,
   "metadata": {},
   "outputs": [],
   "source": [
    "%matplotlib inline\n",
    "from pylab import *\n",
    "import numpy as np\n",
    "import itertools"
   ]
  },
  {
   "cell_type": "markdown",
   "metadata": {},
   "source": [
    "Helper functions"
   ]
  },
  {
   "cell_type": "code",
   "execution_count": 7,
   "metadata": {},
   "outputs": [],
   "source": [
    "def deal(deck):\n",
    "    return deck[0:7]\n",
    "    \n",
    "def count_lands(deck):\n",
    "    return len([card for card in deck if card == LAND])\n",
    "\n",
    "def streaks(deck):\n",
    "    return itertools.groupby(deck)"
   ]
  },
  {
   "cell_type": "markdown",
   "metadata": {},
   "source": [
    "Extract data from perfectly shuffled decks"
   ]
  },
  {
   "cell_type": "code",
   "execution_count": 8,
   "metadata": {},
   "outputs": [],
   "source": [
    "p_hands = [deal(deck) for deck in perfectly_shuffled_decks]\n",
    "p_lands_in_hand = [count_lands(hand) for hand in p_hands]\n",
    "\n",
    "p_all_streaks = [streaks(deck) for deck in perfectly_shuffled_decks]\n",
    "p_land_streaks =  [[len(list(group)) for k, group in streaks(deck) if k == LAND]  for deck in perfectly_shuffled_decks]\n",
    "p_spell_streaks = [[len(list(group)) for k, group in streaks(deck) if k == SPELL] for deck in perfectly_shuffled_decks]\n",
    "\n",
    "p_max_land_streaks = [max(s) for s in p_land_streaks]\n",
    "p_max_spell_streaks = [max(s) for s in p_spell_streaks]\n",
    "\n",
    "p_avg1_land_streaks = [sum([c**2 for c in s])/len(s) for s in p_land_streaks]\n",
    "p_avg1_spell_streaks = [sum([c**2 for c in s])/len(s) for s in p_spell_streaks]\n",
    "\n",
    "p_avg2_land_streaks = [sum([c**2 for c in s if c > 2])/len(s) for s in p_land_streaks]\n",
    "p_avg2_spell_streaks = [sum([c**2 for c in s if c > 4])/len(s) for s in p_spell_streaks]"
   ]
  },
  {
   "cell_type": "markdown",
   "metadata": {},
   "source": [
    "Extract data from riffle shuffled decks"
   ]
  },
  {
   "cell_type": "code",
   "execution_count": 9,
   "metadata": {},
   "outputs": [],
   "source": [
    "hands = [deal(deck) for deck in riffled_shuffled_decks]\n",
    "lands_in_hand = [count_lands(hand) for hand in hands]\n",
    "\n",
    "all_streaks = [streaks(deck) for deck in riffled_shuffled_decks]\n",
    "land_streaks =  [[len(list(group)) for k, group in streaks(deck) if k == LAND]  for deck in riffled_shuffled_decks]\n",
    "spell_streaks = [[len(list(group)) for k, group in streaks(deck) if k == SPELL] for deck in riffled_shuffled_decks]\n",
    "\n",
    "max_land_streaks = [max(s) for s in land_streaks]\n",
    "max_spell_streaks = [max(s) for s in spell_streaks]\n",
    "\n",
    "avg1_land_streaks = [sum([c**2 for c in s])/len(s) for s in land_streaks]\n",
    "avg1_spell_streaks = [sum([c**2 for c in s])/len(s) for s in spell_streaks]\n",
    "\n",
    "avg2_land_streaks = [sum([c**2 for c in s if c > 2])/len(s) for s in land_streaks]\n",
    "avg2_spell_streaks = [sum([c**2 for c in s if c > 4])/len(s) for s in spell_streaks]"
   ]
  },
  {
   "cell_type": "markdown",
   "metadata": {},
   "source": [
    "Opening Hand Analysis"
   ]
  },
  {
   "cell_type": "code",
   "execution_count": 10,
   "metadata": {},
   "outputs": [
    {
     "data": {
      "text/plain": [
       "Text(0.5, 1.0, 'Lands in Opening Hand: Riffle')"
      ]
     },
     "execution_count": 10,
     "metadata": {},
     "output_type": "execute_result"
    },
    {
     "data": {
      "image/png": "[encoded data removed]",
      "text/plain": [
       "<Figure size 648x324 with 2 Axes>"
      ]
     },
     "metadata": {
      "needs_background": "light"
     },
     "output_type": "display_data"
    }
   ],
   "source": [
    "fig, axes = plt.subplots(1, 2, sharex=True, sharey=True, figsize=(9, 4.5))\n",
    "\n",
    "axes[0].hist(p_lands_in_hand, bins=[0, 1, 2, 3, 4, 5, 6, 7])\n",
    "axes[0].set_title(\"Lands in Opening Hand: Perfect\")\n",
    "\n",
    "axes[1].hist(lands_in_hand, bins=[0, 1, 2, 3, 4, 5, 6, 7])\n",
    "axes[1].set_title(\"Lands in Opening Hand: Riffle\")"
   ]
  },
  {
   "cell_type": "code",
   "execution_count": 11,
   "metadata": {},
   "outputs": [
    {
     "data": {
      "text/plain": [
       "(0, 14)"
      ]
     },
     "execution_count": 11,
     "metadata": {},
     "output_type": "execute_result"
    },
    {
     "data": {
      "image/png": "[encoded data removed]",
      "text/plain": [
       "<Figure size 648x324 with 2 Axes>"
      ]
     },
     "metadata": {
      "needs_background": "light"
     },
     "output_type": "display_data"
    }
   ],
   "source": [
    "fig, axes = plt.subplots(1, 2, sharex=True, sharey=True, figsize=(9, 4.5))\n",
    "\n",
    "axes[0].hist(p_max_land_streaks, bins=[0, 1, 2, 3, 4, 5, 6, 7, 8, 9, 10, 11, 12, 13, 14, 15])\n",
    "axes[0].set_title(\"Max land streaks: Perfect\")\n",
    "axes[0].set_xlim((0, max(p_max_land_streaks)))\n",
    "\n",
    "axes[1].hist(max_land_streaks, bins=[0, 1, 2, 3, 4, 5, 6, 7, 8, 9, 10, 11, 12, 13, 14, 15])\n",
    "axes[1].set_title(\"Max land streaks: Riffle\")\n",
    "axes[1].set_xlim((0, max(max_land_streaks)))"
   ]
  },
  {
   "cell_type": "code",
   "execution_count": 12,
   "metadata": {},
   "outputs": [
    {
     "data": {
      "text/plain": [
       "(0, 21)"
      ]
     },
     "execution_count": 12,
     "metadata": {},
     "output_type": "execute_result"
    },
    {
     "data": {
      "image/png": "[encoded data removed]",
      "text/plain": [
       "<Figure size 648x324 with 2 Axes>"
      ]
     },
     "metadata": {
      "needs_background": "light"
     },
     "output_type": "display_data"
    }
   ],
   "source": [
    "fig, axes = plt.subplots(1, 2, sharex=True, sharey=True, figsize=(9, 4.5))\n",
    "\n",
    "axes[0].hist(p_max_spell_streaks, bins=[0, 1, 2, 3, 4, 5, 6, 7, 8, 9, 10, 11, 12, 13, 14, 15])\n",
    "axes[0].set_title(\"Max spell streaks: Perfect\")\n",
    "axes[0].set_xlim((0, max(p_max_spell_streaks)))\n",
    "\n",
    "axes[1].hist(max_spell_streaks, bins=[0, 1, 2, 3, 4, 5, 6, 7, 8, 9, 10, 11, 12, 13, 14, 15])\n",
    "axes[1].set_title(\"Max spell streaks: Riffle\")\n",
    "axes[1].set_xlim((0, max(max_spell_streaks)))"
   ]
  },
  {
   "cell_type": "code",
   "execution_count": 13,
   "metadata": {},
   "outputs": [
    {
     "data": {
      "text/plain": [
       "(0, 14)"
      ]
     },
     "execution_count": 13,
     "metadata": {},
     "output_type": "execute_result"
    },
    {
     "data": {
      "image/png": "[encoded data removed]",
      "text/plain": [
       "<Figure size 648x324 with 2 Axes>"
      ]
     },
     "metadata": {
      "needs_background": "light"
     },
     "output_type": "display_data"
    }
   ],
   "source": [
    "p_data = [item for sublist in p_land_streaks for item in sublist]\n",
    "fig, axes = plt.subplots(1, 2, sharex=True, sharey=True, figsize=(9, 4.5))\n",
    "\n",
    "axes[0].hist(p_data, bins=[0, 1, 2, 3, 4, 5, 6, 7, 8, 9, 10, 11, 12, 13, 14, 15])\n",
    "axes[0].set_title(\"Land streaks: Perfect\")\n",
    "axes[0].set_xlim((0, max(p_data)))\n",
    "\n",
    "data = [item for sublist in land_streaks for item in sublist]\n",
    "\n",
    "axes[1].hist(data, bins=[0, 1, 2, 3, 4, 5, 6, 7, 8, 9, 10, 11, 12, 13, 14, 15])\n",
    "axes[1].set_title(\"Land streaks: Riffle\")\n",
    "axes[1].set_xlim((0, max(data)))"
   ]
  },
  {
   "cell_type": "code",
   "execution_count": 14,
   "metadata": {},
   "outputs": [
    {
     "data": {
      "text/plain": [
       "(0, 21)"
      ]
     },
     "execution_count": 14,
     "metadata": {},
     "output_type": "execute_result"
    },
    {
     "data": {
      "image/png": "[encoded data removed]",
      "text/plain": [
       "<Figure size 648x324 with 2 Axes>"
      ]
     },
     "metadata": {
      "needs_background": "light"
     },
     "output_type": "display_data"
    }
   ],
   "source": [
    "p_data = [item for sublist in p_spell_streaks for item in sublist]\n",
    "fig, axes = plt.subplots(1, 2, sharex=True, sharey=True, figsize=(9, 4.5))\n",
    "\n",
    "axes[0].hist(p_data, bins=[0, 1, 2, 3, 4, 5, 6, 7, 8, 9, 10, 11, 12, 13, 14, 15])\n",
    "axes[0].set_title(\"Spell streaks: Perfect\")\n",
    "axes[0].set_xlim((0, max(p_data)))\n",
    "\n",
    "data = [item for sublist in spell_streaks for item in sublist]\n",
    "\n",
    "axes[1].hist(data, bins=[0, 1, 2, 3, 4, 5, 6, 7, 8, 9, 10, 11, 12, 13, 14, 15])\n",
    "axes[1].set_title(\"Spell streaks: Riffle\")\n",
    "axes[1].set_xlim((0, max(data)))"
   ]
  },
  {
   "cell_type": "code",
   "execution_count": 15,
   "metadata": {},
   "outputs": [
    {
     "data": {
      "text/plain": [
       "Text(0.5, 1.0, 'Average of squared land streaks: Riffle')"
      ]
     },
     "execution_count": 15,
     "metadata": {},
     "output_type": "execute_result"
    },
    {
     "data": {
      "image/png": "[encoded data removed]",
      "text/plain": [
       "<Figure size 648x324 with 2 Axes>"
      ]
     },
     "metadata": {
      "needs_background": "light"
     },
     "output_type": "display_data"
    }
   ],
   "source": [
    "fig, axes = plt.subplots(1, 2, sharex=True, sharey=True, figsize=(9, 4.5))\n",
    "\n",
    "axes[0].hist(p_avg1_land_streaks)\n",
    "axes[0].set_title(\"Average of squared land streaks: Perfect\")\n",
    "\n",
    "axes[1].hist(avg1_land_streaks)\n",
    "axes[1].set_title(\"Average of squared land streaks: Riffle\")\n"
   ]
  },
  {
   "cell_type": "code",
   "execution_count": 16,
   "metadata": {},
   "outputs": [
    {
     "data": {
      "text/plain": [
       "Text(0.5, 1.0, 'Average of squared spell streaks: Riffle')"
      ]
     },
     "execution_count": 16,
     "metadata": {},
     "output_type": "execute_result"
    },
    {
     "data": {
      "image/png": "[encoded data removed]",
      "text/plain": [
       "<Figure size 648x324 with 2 Axes>"
      ]
     },
     "metadata": {
      "needs_background": "light"
     },
     "output_type": "display_data"
    }
   ],
   "source": [
    "fig, axes = plt.subplots(1, 2, sharex=True, sharey=True, figsize=(9, 4.5))\n",
    "\n",
    "axes[0].hist(p_avg1_spell_streaks)\n",
    "axes[0].set_title(\"Average of squared spell streaks: Perfect\")\n",
    "\n",
    "axes[1].hist(avg1_spell_streaks)\n",
    "axes[1].set_title(\"Average of squared spell streaks: Riffle\")\n"
   ]
  },
  {
   "cell_type": "code",
   "execution_count": 17,
   "metadata": {},
   "outputs": [
    {
     "data": {
      "text/plain": [
       "Text(0.5, 1.0, 'Average of squared >2 land streaks: Riffle')"
      ]
     },
     "execution_count": 17,
     "metadata": {},
     "output_type": "execute_result"
    },
    {
     "data": {
      "image/png": "[encoded data removed]",
      "text/plain": [
       "<Figure size 648x324 with 2 Axes>"
      ]
     },
     "metadata": {
      "needs_background": "light"
     },
     "output_type": "display_data"
    }
   ],
   "source": [
    "fig, axes = plt.subplots(1, 2, sharex=True, sharey=True, figsize=(9, 4.5))\n",
    "\n",
    "axes[0].hist(p_avg2_land_streaks)\n",
    "axes[0].set_title(\"Average of squared >2 land streaks: Perfect\")\n",
    "\n",
    "axes[1].hist(avg2_land_streaks)\n",
    "axes[1].set_title(\"Average of squared >2 land streaks: Riffle\")\n"
   ]
  },
  {
   "cell_type": "code",
   "execution_count": 18,
   "metadata": {},
   "outputs": [
    {
     "data": {
      "text/plain": [
       "Text(0.5, 1.0, 'Average of squared >3 spell streaks: Riffle')"
      ]
     },
     "execution_count": 18,
     "metadata": {},
     "output_type": "execute_result"
    },
    {
     "data": {
      "image/png": "[encoded data removed]",
      "text/plain": [
       "<Figure size 648x324 with 2 Axes>"
      ]
     },
     "metadata": {
      "needs_background": "light"
     },
     "output_type": "display_data"
    }
   ],
   "source": [
    "fig, axes = plt.subplots(1, 2, sharex=True, sharey=True, figsize=(9, 4.5))\n",
    "\n",
    "axes[0].hist(p_avg2_spell_streaks)\n",
    "axes[0].set_title(\"Average of squared >3 spell streaks: Perfect\")\n",
    "\n",
    "axes[1].hist(avg2_spell_streaks)\n",
    "axes[1].set_title(\"Average of squared >3 spell streaks: Riffle\")\n"
   ]
  },
  {
   "cell_type": "code",
   "execution_count": null,
   "metadata": {},
   "outputs": [],
   "source": []
  }
 ],
 "metadata": {
  "kernelspec": {
   "display_name": "Python 3",
   "language": "python",
   "name": "python3"
  },
  "language_info": {
   "codemirror_mode": {
    "name": "ipython",
    "version": 3
   },
   "file_extension": ".py",
   "mimetype": "text/x-python",
   "name": "python",
   "nbconvert_exporter": "python",
   "pygments_lexer": "ipython3",
   "version": "3.7.1"
  }
 },
 "nbformat": 4,
 "nbformat_minor": 2
}
